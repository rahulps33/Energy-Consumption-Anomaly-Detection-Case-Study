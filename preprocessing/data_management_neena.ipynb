{
 "cells": [
  {
   "cell_type": "markdown",
   "metadata": {},
   "source": [
    "The data is currently stored as `.xls` files. In this notebook, we will implement some code to manipulate the data as `pandas.Dataframes` and store as more efficient `.parquet` files on disk."
   ]
  },
  {
   "cell_type": "code",
   "execution_count": 5,
   "metadata": {},
   "outputs": [
    {
     "name": "stdout",
     "output_type": "stream",
     "text": [
      "Collecting pyarrow\n",
      "  Downloading pyarrow-10.0.0-cp39-cp39-win_amd64.whl (20.0 MB)\n",
      "Requirement already satisfied: numpy>=1.16.6 in c:\\users\\neena\\anaconda3\\lib\\site-packages (from pyarrow) (1.20.3)\n",
      "Installing collected packages: pyarrow\n",
      "Successfully installed pyarrow-10.0.0\n",
      "Note: you may need to restart the kernel to use updated packages.\n"
     ]
    }
   ],
   "source": [
    "pip install pyarrow"
   ]
  },
  {
   "cell_type": "code",
   "execution_count": 6,
   "metadata": {},
   "outputs": [],
   "source": [
    "# import any required libraries here\n",
    "import pandas as pd\n",
    "import pyarrow as pa\n",
    "import pyarrow.parquet as pq"
   ]
  },
  {
   "cell_type": "markdown",
   "metadata": {},
   "source": [
    "First, we need to read the `.xls` files into `pandas.Dataframes`. You can use [pandas.read_excel](https://pandas.pydata.org/docs/reference/api/pandas.read_excel.html) for this."
   ]
  },
  {
   "cell_type": "code",
   "execution_count": 3,
   "metadata": {},
   "outputs": [],
   "source": [
    "# load the building data \n",
    "# consider the different number of header rows!\n",
    "\n",
    "#OH12 = pd.read_excel(r'C:\\Users\\neena\\Documents\\Masters Courses\\CaseStudy\\Data Modified\\OH12Modified1.xlsx')\n",
    "#OH14 = pd.read_excel(r'C:\\Users\\neena\\Documents\\Masters Courses\\CaseStudy\\Data Modified\\OH14Modified1.xlsx')\n",
    "#Chemie = pd.read_excel(r'C:\\Users\\neena\\Documents\\Masters Courses\\CaseStudy\\Data Modified\\ChemieModified1.xlsx')\n",
    "#HGII = pd.read_excel(r'C:\\Users\\neena\\Documents\\Masters Courses\\CaseStudy\\Data Modified\\HGIIModified1.xlsx')\n",
    "KH = pd.read_excel(r'C:\\Users\\neena\\Documents\\Masters Courses\\CaseStudy\\Data Modified\\Kita HokidoModified1.xlsx')\n"
   ]
  },
  {
   "cell_type": "markdown",
   "metadata": {},
   "source": [
    "Next, we need to implement a function that takes a `pandas.Dataframe` and a path string as an input and writes the data to disk as a `parquet` file. You can use the [PyArrow library](https://arrow.apache.org/docs/python/parquet.html) for this: "
   ]
  },
  {
   "cell_type": "code",
   "execution_count": 36,
   "metadata": {},
   "outputs": [],
   "source": [
    "def write_as_parquet(df, path):\n",
    "    # implement this function and add a short doc string describing its use\n",
    "   \n",
    "    file_name =[x for x in globals() if globals()[x] is df][0]\n",
    "    arrowTable = pa.Table.from_pandas(df)\n",
    "    pq.write_table(arrowTable, path + file_name + '.parquet' )"
   ]
  },
  {
   "cell_type": "code",
   "execution_count": 40,
   "metadata": {},
   "outputs": [],
   "source": [
    "#write_as_parquet(OH12,'C:/Users/neena/Documents/Masters Courses/CaseStudy/Data Modified/')\n",
    "write_as_parquet(OH14, 'C:/Users/neena/Documents/Masters Courses/CaseStudy/Data Modified/')\n",
    "write_as_parquet(Chemie, 'C:/Users/neena/Documents/Masters Courses/CaseStudy/Data Modified/')\n",
    "write_as_parquet(HGII, 'C:/Users/neena/Documents/Masters Courses/CaseStudy/Data Modified/')\n",
    "                 "
   ]
  },
  {
   "cell_type": "markdown",
   "metadata": {},
   "source": [
    "Now we need the opposite functionality: a function that reads data from a `.parquet` file on disk and returns it as a `pandas.Dataframe`. Implement this function such that it can take a list of names of column to load as an _optional_ parameter. "
   ]
  },
  {
   "cell_type": "code",
   "execution_count": 44,
   "metadata": {},
   "outputs": [],
   "source": [
    "def load_to_pandas(path, columns):\n",
    "    # implement this function and add a short doc string describing its use\n",
    "    if columns is not None:\n",
    "        df = pq.read_table(path, columns = columns).to_pandas()\n",
    "    elif columns is None:\n",
    "        df = pq.read_table(path).to_pandas()\n",
    "        \n",
    "    return df"
   ]
  },
  {
   "cell_type": "code",
   "execution_count": 46,
   "metadata": {},
   "outputs": [
    {
     "data": {
      "text/html": [
       "<div>\n",
       "<style scoped>\n",
       "    .dataframe tbody tr th:only-of-type {\n",
       "        vertical-align: middle;\n",
       "    }\n",
       "\n",
       "    .dataframe tbody tr th {\n",
       "        vertical-align: top;\n",
       "    }\n",
       "\n",
       "    .dataframe thead th {\n",
       "        text-align: right;\n",
       "    }\n",
       "</style>\n",
       "<table border=\"1\" class=\"dataframe\">\n",
       "  <thead>\n",
       "    <tr style=\"text-align: right;\">\n",
       "      <th></th>\n",
       "      <th>Date</th>\n",
       "      <th>Wärmeleistung</th>\n",
       "      <th>Volumen Kanal 1</th>\n",
       "      <th>WV+ Arbeit Tarif 1</th>\n",
       "    </tr>\n",
       "  </thead>\n",
       "  <tbody>\n",
       "    <tr>\n",
       "      <th>0</th>\n",
       "      <td>2020-03-14 15:15:00</td>\n",
       "      <td>NaN</td>\n",
       "      <td>NaN</td>\n",
       "      <td>1490274.3</td>\n",
       "    </tr>\n",
       "    <tr>\n",
       "      <th>1</th>\n",
       "      <td>2020-03-14 15:30:00</td>\n",
       "      <td>NaN</td>\n",
       "      <td>NaN</td>\n",
       "      <td>1490361.1</td>\n",
       "    </tr>\n",
       "    <tr>\n",
       "      <th>2</th>\n",
       "      <td>2020-03-14 15:45:00</td>\n",
       "      <td>NaN</td>\n",
       "      <td>NaN</td>\n",
       "      <td>1490449.5</td>\n",
       "    </tr>\n",
       "    <tr>\n",
       "      <th>3</th>\n",
       "      <td>2020-03-14 16:00:00</td>\n",
       "      <td>126.965</td>\n",
       "      <td>NaN</td>\n",
       "      <td>1490538.8</td>\n",
       "    </tr>\n",
       "    <tr>\n",
       "      <th>4</th>\n",
       "      <td>2020-03-14 16:15:00</td>\n",
       "      <td>NaN</td>\n",
       "      <td>NaN</td>\n",
       "      <td>1490623.7</td>\n",
       "    </tr>\n",
       "    <tr>\n",
       "      <th>...</th>\n",
       "      <td>...</td>\n",
       "      <td>...</td>\n",
       "      <td>...</td>\n",
       "      <td>...</td>\n",
       "    </tr>\n",
       "    <tr>\n",
       "      <th>82210</th>\n",
       "      <td>2022-07-19 00:45:00</td>\n",
       "      <td>NaN</td>\n",
       "      <td>10204.29</td>\n",
       "      <td>10063532.0</td>\n",
       "    </tr>\n",
       "    <tr>\n",
       "      <th>82211</th>\n",
       "      <td>2022-07-19 01:00:00</td>\n",
       "      <td>155.897</td>\n",
       "      <td>NaN</td>\n",
       "      <td>10063625.0</td>\n",
       "    </tr>\n",
       "    <tr>\n",
       "      <th>82212</th>\n",
       "      <td>2022-07-19 01:15:00</td>\n",
       "      <td>NaN</td>\n",
       "      <td>NaN</td>\n",
       "      <td>10063715.0</td>\n",
       "    </tr>\n",
       "    <tr>\n",
       "      <th>82213</th>\n",
       "      <td>2022-07-19 01:30:00</td>\n",
       "      <td>NaN</td>\n",
       "      <td>NaN</td>\n",
       "      <td>10063806.8</td>\n",
       "    </tr>\n",
       "    <tr>\n",
       "      <th>82214</th>\n",
       "      <td>2022-07-19 01:45:00</td>\n",
       "      <td>NaN</td>\n",
       "      <td>NaN</td>\n",
       "      <td>10063898.3</td>\n",
       "    </tr>\n",
       "  </tbody>\n",
       "</table>\n",
       "<p>82215 rows × 4 columns</p>\n",
       "</div>"
      ],
      "text/plain": [
       "                     Date  Wärmeleistung  Volumen Kanal 1  WV+ Arbeit Tarif 1\n",
       "0     2020-03-14 15:15:00            NaN              NaN           1490274.3\n",
       "1     2020-03-14 15:30:00            NaN              NaN           1490361.1\n",
       "2     2020-03-14 15:45:00            NaN              NaN           1490449.5\n",
       "3     2020-03-14 16:00:00        126.965              NaN           1490538.8\n",
       "4     2020-03-14 16:15:00            NaN              NaN           1490623.7\n",
       "...                   ...            ...              ...                 ...\n",
       "82210 2022-07-19 00:45:00            NaN         10204.29          10063532.0\n",
       "82211 2022-07-19 01:00:00        155.897              NaN          10063625.0\n",
       "82212 2022-07-19 01:15:00            NaN              NaN          10063715.0\n",
       "82213 2022-07-19 01:30:00            NaN              NaN          10063806.8\n",
       "82214 2022-07-19 01:45:00            NaN              NaN          10063898.3\n",
       "\n",
       "[82215 rows x 4 columns]"
      ]
     },
     "execution_count": 46,
     "metadata": {},
     "output_type": "execute_result"
    }
   ],
   "source": [
    "columns = ['Date','Wärmeleistung','Volumen Kanal 1','WV+ Arbeit Tarif 1']\n",
    "OH12_df = load_to_pandas('C:/Users/neena/Documents/Masters Courses/CaseStudy/Data Modified/OH12.parquet', columns)\n",
    "OH14_df = load_to_pandas('C:/Users/neena/Documents/Masters Courses/CaseStudy/Data Modified/OH14.parquet', columns)\n",
    "HGII_df = load_to_pandas('C:/Users/neena/Documents/Masters Courses/CaseStudy/Data Modified/HGII.parquet', columns)\n",
    "Chemie_df = load_to_pandas('C:/Users/neena/Documents/Masters Courses/CaseStudy/Data Modified/Chemie.parquet', columns)\n",
    "\n",
    "Chemie_df"
   ]
  },
  {
   "cell_type": "markdown",
   "metadata": {},
   "source": [
    "Great! We can now store data more efficiently on disk and know how to load it again. Store all the data we have as one `.parquet` file per building."
   ]
  },
  {
   "cell_type": "markdown",
   "metadata": {},
   "source": []
  }
 ],
 "metadata": {
  "kernelspec": {
   "display_name": "Python 3 (ipykernel)",
   "language": "python",
   "name": "python3"
  },
  "language_info": {
   "codemirror_mode": {
    "name": "ipython",
    "version": 3
   },
   "file_extension": ".py",
   "mimetype": "text/x-python",
   "name": "python",
   "nbconvert_exporter": "python",
   "pygments_lexer": "ipython3",
   "version": "3.9.7"
  }
 },
 "nbformat": 4,
 "nbformat_minor": 2
}
