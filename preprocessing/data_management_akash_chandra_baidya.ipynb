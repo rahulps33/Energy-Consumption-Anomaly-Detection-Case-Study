{
 "cells": [
  {
   "cell_type": "markdown",
   "metadata": {},
   "source": [
    "The data is currently stored as `.xls` files. In this notebook, we will implement some code to manipulate the data as `pandas.Dataframes` and store as more efficient `.parquet` files on disk."
   ]
  },
  {
   "cell_type": "code",
   "execution_count": 3,
   "metadata": {},
   "outputs": [],
   "source": [
    "# import any required libraries here\n",
    "import os\n",
    "import pandas as pd \n",
    "import numpy as np"
   ]
  },
  {
   "cell_type": "markdown",
   "metadata": {},
   "source": [
    "First, we need to read the `.xls` files into `pandas.Dataframes`. You can use [pandas.read_excel](https://pandas.pydata.org/docs/reference/api/pandas.read_excel.html) for this."
   ]
  },
  {
   "cell_type": "code",
   "execution_count": 52,
   "metadata": {},
   "outputs": [
    {
     "name": "stdout",
     "output_type": "stream",
     "text": [
      "WARNING *** OLE2 inconsistency: SSCS size is 0 but SSAT size is non-zero\n",
      "D:\\5th Sem\\\n"
     ]
    }
   ],
   "source": [
    "# load the building data \n",
    "# consider the different number of header rows!\n",
    "chemie1 = pd.read_excel(\"D:\\Chemie.xls\",skiprows=[0,1,2,3,5,6,7] )\n",
    "chemie1\n",
    "#chemie1.to_parquet(\"D:\\\\5th Sem\\\\dataframe.parquet\")\n",
    "#print(os.listdir(\".\"))\n",
    "\n",
    "write_as_parquet(chemie1,\"D:\\\\5th Sem\\\\\")"
   ]
  },
  {
   "cell_type": "markdown",
   "metadata": {},
   "source": [
    " Next, we need to implement a function that takes a `pandas.Dataframe` and a path string as an input and writes the data to disk as a `parquet` file. You can use the [PyArrow library](https://arrow.apache.org/docs/python/parquet.html) for this: "
   ]
  },
  {
   "cell_type": "code",
   "execution_count": 51,
   "metadata": {},
   "outputs": [],
   "source": [
    "def write_as_parquet(df, path):\n",
    "    # implement this function and add a short doc string describing its use\n",
    "    print(path)\n",
    "    df.to_parquet(path+\"dataframe.parquet\")\n",
    "    \n",
    "    #print(os.listdir(\".\"))\n",
    "\n",
    "\n",
    "    "
   ]
  },
  {
   "cell_type": "markdown",
   "metadata": {},
   "source": [
    "Now we need the opposite functionality: a function that reads data from a `.parquet` file on disk and returns it as a `pandas.Dataframe`. Implement this function such that it can take a list of names of column to load as an _optional_ parameter. "
   ]
  },
  {
   "cell_type": "code",
   "execution_count": null,
   "metadata": {},
   "outputs": [],
   "source": [
    "def load_to_pandas(path, columns):\n",
    "    # implement this function and add a short doc string describing its use\n",
    "    data=pd.read_parquet(file_path, engine=\"pyarrow\")\n",
    "\n",
    "    return df"
   ]
  },
  {
   "cell_type": "markdown",
   "metadata": {},
   "source": [
    "Great! We can now store data more efficiently on disk and know how to load it again. Store all the data we have as one `.parquet` file per building."
   ]
  },
  {
   "cell_type": "markdown",
   "metadata": {},
   "source": []
  }
 ],
 "metadata": {
  "kernelspec": {
   "display_name": "Python 3.9.13 ('base')",
   "language": "python",
   "name": "python3"
  },
  "language_info": {
   "codemirror_mode": {
    "name": "ipython",
    "version": 3
   },
   "file_extension": ".py",
   "mimetype": "text/x-python",
   "name": "python",
   "nbconvert_exporter": "python",
   "pygments_lexer": "ipython3",
   "version": "3.9.13"
  },
  "orig_nbformat": 4,
  "vscode": {
   "interpreter": {
    "hash": "5c51def8b283cab9976466e00c9b9932a09a3cc5c59f8673aa8b2042d1d517ed"
   }
  }
 },
 "nbformat": 4,
 "nbformat_minor": 2
}
